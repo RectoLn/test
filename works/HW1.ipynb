{
 "cells": [
  {
   "cell_type": "code",
   "execution_count": 3,
   "metadata": {},
   "outputs": [
    {
     "name": "stdout",
     "output_type": "stream",
     "text": [
      "★★★★★★★★★★★★\n",
      "★ 数据科学与工程导论 ★\n",
      "★★★★★★★★★★★★\n"
     ]
    }
   ],
   "source": [
    "message = \"数据科学与工程导论\"\n",
    "print(chr(0x2605) * (len(message) + 3)) \n",
    "print(f\"{chr(0x2605)} {message} {chr(0x2605)}\") \n",
    "print(chr(0x2605) * (len(message) + 3)) "
   ]
  },
  {
   "cell_type": "code",
   "execution_count": 5,
   "metadata": {},
   "outputs": [
    {
     "name": "stdout",
     "output_type": "stream",
     "text": [
      "从小到大的顺序是: [1, 2, 4]\n"
     ]
    }
   ],
   "source": [
    "x = int(input(\"请输入第一个数 x: \"))\n",
    "y = int(input(\"请输入第二个数 y: \"))\n",
    "z = int(input(\"请输入第三个数 z: \"))\n",
    "numbers = [x, y, z]\n",
    "numbers.sort()\n",
    "print(\"从小到大的顺序是:\", numbers)"
   ]
  },
  {
   "cell_type": "code",
   "execution_count": 7,
   "metadata": {},
   "outputs": [
    {
     "name": "stdout",
     "output_type": "stream",
     "text": [
      "随机生成的四个数是: [54, 39, 37, 11]\n",
      "从大到小的顺序是: [54, 39, 37, 11]\n"
     ]
    }
   ],
   "source": [
    "import random\n",
    "numbers = [random.randint(1, 100) for _ in range(4)]\n",
    "numbers.sort(reverse=True)\n",
    "print(\"随机生成的四个数是:\", numbers)\n",
    "print(\"从大到小的顺序是:\", numbers)"
   ]
  },
  {
   "cell_type": "code",
   "execution_count": 10,
   "metadata": {},
   "outputs": [
    {
     "name": "stdout",
     "output_type": "stream",
     "text": [
      "1\n",
      "3\n",
      "5\n",
      "7\n",
      "9\n",
      "11\n",
      "13\n",
      "15\n",
      "17\n",
      "19\n",
      "21\n",
      "23\n",
      "25\n",
      "27\n",
      "29\n",
      "31\n",
      "33\n",
      "35\n",
      "37\n",
      "39\n",
      "41\n",
      "43\n",
      "45\n",
      "47\n",
      "49\n",
      "51\n",
      "53\n",
      "55\n",
      "57\n",
      "59\n",
      "61\n",
      "63\n",
      "65\n",
      "67\n",
      "69\n",
      "71\n",
      "73\n",
      "75\n",
      "77\n",
      "79\n",
      "81\n",
      "83\n",
      "85\n",
      "87\n",
      "89\n",
      "91\n",
      "93\n",
      "95\n",
      "97\n",
      "99\n"
     ]
    }
   ],
   "source": [
    "for num in range(1, 101):\n",
    "    if num % 2 != 0:\n",
    "        print(num)"
   ]
  },
  {
   "cell_type": "code",
   "execution_count": 12,
   "metadata": {},
   "outputs": [
    {
     "name": "stdout",
     "output_type": "stream",
     "text": [
      "5050\n"
     ]
    }
   ],
   "source": [
    "a=0\n",
    "for num in range(1, 101):\n",
    "    a+=num\n",
    "print (a)"
   ]
  },
  {
   "cell_type": "code",
   "execution_count": 13,
   "metadata": {},
   "outputs": [
    {
     "name": "stdout",
     "output_type": "stream",
     "text": [
      "5 4 3 2 1 "
     ]
    }
   ],
   "source": [
    "L = [1, 2, 3, 4, 5]\n",
    "for i in range(len(L) - 1, -1, -1):\n",
    "    print(L[i], end=' ')"
   ]
  },
  {
   "cell_type": "code",
   "execution_count": 15,
   "metadata": {},
   "outputs": [
    {
     "name": "stdout",
     "output_type": "stream",
     "text": [
      "字符串不包含两个或两个以上连续出现的相同字符。\n"
     ]
    }
   ],
   "source": [
    "def has_repeated_characters(s):\n",
    "    for i in range(len(s) - 1):\n",
    "        if s[i] == s[i + 1]: \n",
    "            count = 2 \n",
    "            while i + count < len(s) and s[i] == s[i + count]:\n",
    "                count += 1\n",
    "            if count >= 2:  \n",
    "                return True\n",
    "    return False\n",
    "S = input(\"请输入字符串 S: \")\n",
    "if has_repeated_characters(S):\n",
    "    print(\"字符串包含两个或两个以上连续出现的相同字符。\")\n",
    "else:\n",
    "    print(\"字符串不包含两个或两个以上连续出现的相同字符。\")\n"
   ]
  },
  {
   "cell_type": "code",
   "execution_count": 16,
   "metadata": {},
   "outputs": [
    {
     "name": "stdout",
     "output_type": "stream",
     "text": [
      "去掉空格后的字符串是: dadgregshtshgdfgWSADWQF\n"
     ]
    }
   ],
   "source": [
    "S = input(\"请输入字符串 S: \")\n",
    "print(\"去掉空格后的字符串是:\", S.replace(\" \", \"\"))"
   ]
  },
  {
   "cell_type": "code",
   "execution_count": 18,
   "metadata": {},
   "outputs": [
    {
     "name": "stdout",
     "output_type": "stream",
     "text": [
      "27.0 的立方根是: 3.000000081210202\n"
     ]
    }
   ],
   "source": [
    "def cube_root(a, tolerance=1e-6):\n",
    "    x = a / 2.0 if a > 1 else a \n",
    "    while True:\n",
    "        x_next = x - (x**3 - a) / (3 * x**2)\n",
    "        if abs(x_next - x) < tolerance:\n",
    "            break\n",
    "        x = x_next\n",
    "    return x\n",
    "number = float(input(\"请输入一个数字：\"))\n",
    "result = cube_root(number)\n",
    "print(f\"{number} 的立方根是: {result}\")"
   ]
  },
  {
   "cell_type": "code",
   "execution_count": 21,
   "metadata": {},
   "outputs": [
    {
     "name": "stdout",
     "output_type": "stream",
     "text": [
      "2 的阶乘是: 2\n"
     ]
    }
   ],
   "source": [
    "def fact(n):\n",
    "    if n == 0 or n == 1: \n",
    "        return 1\n",
    "    result = 1\n",
    "    for i in range(2, n + 1):\n",
    "        result *= i \n",
    "    return result\n",
    "n = int(input(\"请输入一个正整数 n (n > 0): \"))\n",
    "if n > 0:\n",
    "    result = fact(n)\n",
    "    print(f\"{n} 的阶乘是: {result}\")\n",
    "else:\n",
    "    print(\"请输入一个大于 0 的整数。\")"
   ]
  }
 ],
 "metadata": {
  "kernelspec": {
   "display_name": "Python 3",
   "language": "python",
   "name": "python3"
  },
  "language_info": {
   "codemirror_mode": {
    "name": "ipython",
    "version": 3
   },
   "file_extension": ".py",
   "mimetype": "text/x-python",
   "name": "python",
   "nbconvert_exporter": "python",
   "pygments_lexer": "ipython3",
   "version": "3.11.7"
  }
 },
 "nbformat": 4,
 "nbformat_minor": 2
}
